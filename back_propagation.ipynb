{
  "nbformat": 4,
  "nbformat_minor": 0,
  "metadata": {
    "colab": {
      "name": "back_propagation.ipynb",
      "provenance": [],
      "collapsed_sections": [],
      "include_colab_link": true
    },
    "kernelspec": {
      "name": "python3",
      "display_name": "Python 3"
    },
    "language_info": {
      "name": "python"
    }
  },
  "cells": [
    {
      "cell_type": "markdown",
      "metadata": {
        "id": "view-in-github",
        "colab_type": "text"
      },
      "source": [
        "<a href=\"https://colab.research.google.com/github/muhammadbabarkamal/BabarKamal/blob/main/back_propagation.ipynb\" target=\"_parent\"><img src=\"https://colab.research.google.com/assets/colab-badge.svg\" alt=\"Open In Colab\"/></a>"
      ]
    },
    {
      "cell_type": "markdown",
      "metadata": {
        "id": "8uLdgUg0kIHO"
      },
      "source": [
        "Assingment 1 Programming 1\n",
        "1.\tCreate a PyTorch tensor from a = list(range(9)). Check the size, offset, and stride."
      ]
    },
    {
      "cell_type": "code",
      "metadata": {
        "colab": {
          "base_uri": "https://localhost:8080/"
        },
        "id": "LRtMzHXwkDuU",
        "outputId": "5a15afd5-092f-4d24-dcce-fead1d2efd91"
      },
      "source": [
        "import torch\n",
        "a= list(range(9))\n",
        "print(\"List a:\",a)\n",
        "a= torch.tensor([a])\n",
        "print(\"List into tensor a:\",a)\n",
        "print(\"Tensor a offset:\",a.storage_offset())\n",
        "print(\"Tensor a size:\",a.size())\n",
        "print(\"Tensor a stride:\",a.stride())"
      ],
      "execution_count": null,
      "outputs": [
        {
          "output_type": "stream",
          "name": "stdout",
          "text": [
            "List a: [0, 1, 2, 3, 4, 5, 6, 7, 8]\n",
            "List into tensor a: tensor([[0, 1, 2, 3, 4, 5, 6, 7, 8]])\n",
            "Tensor a offset: 0\n",
            "Tensor a size: torch.Size([1, 9])\n",
            "Tensor a stride: (9, 1)\n"
          ]
        }
      ]
    },
    {
      "cell_type": "markdown",
      "metadata": {
        "id": "JG9O3pZ4pnJI"
      },
      "source": [
        "\n",
        "\n",
        "> 2.\tCreate a new tensor using b = a.view(3, 3). What does view do? Check that a and b share the same storage.\n",
        "\n"
      ]
    },
    {
      "cell_type": "code",
      "metadata": {
        "colab": {
          "base_uri": "https://localhost:8080/"
        },
        "id": "OnnSHdphpuKH",
        "outputId": "4c2cc5f6-1352-44d8-e157-c6ef367a6a1b"
      },
      "source": [
        "b= torch.tensor(a)\n",
        "b= b.view(3,3)\n",
        "print(\"Tensor b:\",b)\n",
        "print(\"Tensor b Storage:\",b.storage())\n",
        "print(\"Tensor a Storage:\",a.storage())"
      ],
      "execution_count": null,
      "outputs": [
        {
          "output_type": "stream",
          "name": "stdout",
          "text": [
            "Tensor b: tensor([[0, 1, 2],\n",
            "        [3, 4, 5],\n",
            "        [6, 7, 8]])\n",
            "Tensor b Storage:  0\n",
            " 1\n",
            " 2\n",
            " 3\n",
            " 4\n",
            " 5\n",
            " 6\n",
            " 7\n",
            " 8\n",
            "[torch.LongStorage of size 9]\n",
            "Tensor a Storage:  0\n",
            " 1\n",
            " 2\n",
            " 3\n",
            " 4\n",
            " 5\n",
            " 6\n",
            " 7\n",
            " 8\n",
            "[torch.LongStorage of size 9]\n"
          ]
        },
        {
          "output_type": "stream",
          "name": "stderr",
          "text": [
            "/usr/local/lib/python3.7/dist-packages/ipykernel_launcher.py:1: UserWarning: To copy construct from a tensor, it is recommended to use sourceTensor.clone().detach() or sourceTensor.clone().detach().requires_grad_(True), rather than torch.tensor(sourceTensor).\n",
            "  \"\"\"Entry point for launching an IPython kernel.\n"
          ]
        }
      ]
    },
    {
      "cell_type": "markdown",
      "metadata": {
        "id": "rhBT0yHGtKd6"
      },
      "source": [
        "3.\tCreate a tensor c = b[1:,1:]. Check the size, offset, and stride."
      ]
    },
    {
      "cell_type": "code",
      "metadata": {
        "colab": {
          "base_uri": "https://localhost:8080/"
        },
        "id": "xyug_sBYtJBG",
        "outputId": "6d842399-64ec-4133-911b-eeb3c10e5c90"
      },
      "source": [
        "c= torch.tensor(b[1:,1:])\n",
        "print(\"Tensor c\", c)\n",
        "print(\"Tensor c offset:\",c.storage_offset())\n",
        "print(\"Tensor c size:\",c.size())\n",
        "print(\"Tensor c stride:\",c.stride())"
      ],
      "execution_count": null,
      "outputs": [
        {
          "output_type": "stream",
          "name": "stdout",
          "text": [
            "Tensor c tensor([[4, 5],\n",
            "        [7, 8]])\n",
            "Tensor c offset: 0\n",
            "Tensor c size: torch.Size([2, 2])\n",
            "Tensor c stride: (2, 1)\n"
          ]
        },
        {
          "output_type": "stream",
          "name": "stderr",
          "text": [
            "/usr/local/lib/python3.7/dist-packages/ipykernel_launcher.py:1: UserWarning: To copy construct from a tensor, it is recommended to use sourceTensor.clone().detach() or sourceTensor.clone().detach().requires_grad_(True), rather than torch.tensor(sourceTensor).\n",
            "  \"\"\"Entry point for launching an IPython kernel.\n"
          ]
        }
      ]
    },
    {
      "cell_type": "code",
      "metadata": {
        "colab": {
          "base_uri": "https://localhost:8080/"
        },
        "id": "7Ru0k8MkvIlD",
        "outputId": "322dc274-a316-4c68-8dd8-c6f29ee7a6d8"
      },
      "source": [
        "from numpy import argmax\n",
        "# define input string\n",
        "data = 'hello world'\n",
        "print(data)\n",
        "# define universe of possible input values\n",
        "alphabet = 'abcdefghijklmnopqrstuvwxyz '\n",
        "# define a mapping of chars to integers\n",
        "char_to_int = dict((c, i) for i, c in enumerate(alphabet))\n",
        "int_to_char = dict((i, c) for i, c in enumerate(alphabet))\n",
        "# integer encode input data\n",
        "integer_encoded = [char_to_int[char] for char in data]\n",
        "print(integer_encoded)\n",
        "# one hot encode\n",
        "onehot_encoded = list()\n",
        "for value in integer_encoded:\n",
        "\tletter = [0 for _ in range(len(alphabet))]\n",
        "\tletter[value] = 1\n",
        "\tonehot_encoded.append(letter)\n",
        "print(onehot_encoded)\n",
        "# invert encoding\n",
        "inverted = int_to_char[argmax(onehot_encoded[0])]\n",
        "print(inverted)"
      ],
      "execution_count": null,
      "outputs": [
        {
          "output_type": "stream",
          "name": "stdout",
          "text": [
            "hello world\n",
            "[7, 4, 11, 11, 14, 26, 22, 14, 17, 11, 3]\n",
            "[[0, 0, 0, 0, 0, 0, 0, 1, 0, 0, 0, 0, 0, 0, 0, 0, 0, 0, 0, 0, 0, 0, 0, 0, 0, 0, 0], [0, 0, 0, 0, 1, 0, 0, 0, 0, 0, 0, 0, 0, 0, 0, 0, 0, 0, 0, 0, 0, 0, 0, 0, 0, 0, 0], [0, 0, 0, 0, 0, 0, 0, 0, 0, 0, 0, 1, 0, 0, 0, 0, 0, 0, 0, 0, 0, 0, 0, 0, 0, 0, 0], [0, 0, 0, 0, 0, 0, 0, 0, 0, 0, 0, 1, 0, 0, 0, 0, 0, 0, 0, 0, 0, 0, 0, 0, 0, 0, 0], [0, 0, 0, 0, 0, 0, 0, 0, 0, 0, 0, 0, 0, 0, 1, 0, 0, 0, 0, 0, 0, 0, 0, 0, 0, 0, 0], [0, 0, 0, 0, 0, 0, 0, 0, 0, 0, 0, 0, 0, 0, 0, 0, 0, 0, 0, 0, 0, 0, 0, 0, 0, 0, 1], [0, 0, 0, 0, 0, 0, 0, 0, 0, 0, 0, 0, 0, 0, 0, 0, 0, 0, 0, 0, 0, 0, 1, 0, 0, 0, 0], [0, 0, 0, 0, 0, 0, 0, 0, 0, 0, 0, 0, 0, 0, 1, 0, 0, 0, 0, 0, 0, 0, 0, 0, 0, 0, 0], [0, 0, 0, 0, 0, 0, 0, 0, 0, 0, 0, 0, 0, 0, 0, 0, 0, 1, 0, 0, 0, 0, 0, 0, 0, 0, 0], [0, 0, 0, 0, 0, 0, 0, 0, 0, 0, 0, 1, 0, 0, 0, 0, 0, 0, 0, 0, 0, 0, 0, 0, 0, 0, 0], [0, 0, 0, 1, 0, 0, 0, 0, 0, 0, 0, 0, 0, 0, 0, 0, 0, 0, 0, 0, 0, 0, 0, 0, 0, 0, 0]]\n",
            "h\n"
          ]
        }
      ]
    },
    {
      "cell_type": "markdown",
      "metadata": {
        "id": "-P9koA8fvYmR"
      },
      "source": [
        "4.\tCreate one-hot vector encoding of ImageNet class labels using scatter operation.\n",
        "\n"
      ]
    },
    {
      "cell_type": "code",
      "metadata": {
        "id": "8KFhDyK4vX_V"
      },
      "source": [
        ""
      ],
      "execution_count": null,
      "outputs": []
    },
    {
      "cell_type": "markdown",
      "metadata": {
        "id": "-UBALRF4N9UE"
      },
      "source": [
        "## Lecture 3: \n",
        "### Autograd using Pytorch\n",
        "Reading: Section 5.5 of Deep learning with Pytorch"
      ]
    },
    {
      "cell_type": "code",
      "metadata": {
        "colab": {
          "base_uri": "https://localhost:8080/"
        },
        "id": "gs9pjtX6G77Y",
        "outputId": "737342b0-d86b-4bee-b7fa-dee0e25df752"
      },
      "source": [
        "!pip3 install torch torchvision torchaudio"
      ],
      "execution_count": null,
      "outputs": [
        {
          "output_type": "stream",
          "name": "stdout",
          "text": [
            "Requirement already satisfied: torch in /usr/local/lib/python3.7/dist-packages (1.9.0+cu111)\n",
            "Requirement already satisfied: torchvision in /usr/local/lib/python3.7/dist-packages (0.10.0+cu111)\n",
            "Collecting torchaudio\n",
            "  Downloading torchaudio-0.9.1-cp37-cp37m-manylinux1_x86_64.whl (1.9 MB)\n",
            "\u001b[K     |████████████████████████████████| 1.9 MB 2.8 MB/s \n",
            "\u001b[?25hRequirement already satisfied: typing-extensions in /usr/local/lib/python3.7/dist-packages (from torch) (3.7.4.3)\n",
            "Requirement already satisfied: numpy in /usr/local/lib/python3.7/dist-packages (from torchvision) (1.19.5)\n",
            "Requirement already satisfied: pillow>=5.3.0 in /usr/local/lib/python3.7/dist-packages (from torchvision) (7.1.2)\n",
            "  Downloading torchaudio-0.9.0-cp37-cp37m-manylinux1_x86_64.whl (1.9 MB)\n",
            "\u001b[K     |████████████████████████████████| 1.9 MB 24.8 MB/s \n",
            "\u001b[?25hInstalling collected packages: torchaudio\n",
            "Successfully installed torchaudio-0.9.0\n"
          ]
        }
      ]
    },
    {
      "cell_type": "code",
      "metadata": {
        "id": "nZNLFzzcIReL"
      },
      "source": [
        "import torch\n",
        "from matplotlib import pyplot as plt"
      ],
      "execution_count": null,
      "outputs": []
    },
    {
      "cell_type": "markdown",
      "metadata": {
        "id": "yHK00JrtHMdy"
      },
      "source": [
        "\tRedefine the model in back_propagation.ipynb file to be h = w_2  * x^2  + w_1  * x + b.\n",
        "  \n",
        "\tWhat parts of the training loop, and so on, need to change to accommodate this redefinition?\n",
        "\tWhat parts are agnostic to swapping out the model?\n",
        "\tIs the resulting loss higher or lower after training?\n",
        "\tIs the training error better or worse?\n"
      ]
    },
    {
      "cell_type": "code",
      "metadata": {
        "id": "EBVm6rT-HDa6"
      },
      "source": [
        "# Redifined the model according to Q5 where w1 and w2 are sepratly defined and model h = w_2  * x^2  + w_1  * x + b \n",
        "def model1(x, w2, w1, b):\n",
        "  return (w2*x**2) + (w1*x)+ b\n",
        "# loss function\n",
        "def loss_fn(y_hat, y):\n",
        "  squared_diffs = (y_hat - y)**2\n",
        "  return squared_diffs.mean()"
      ],
      "execution_count": null,
      "outputs": []
    },
    {
      "cell_type": "code",
      "metadata": {
        "colab": {
          "base_uri": "https://localhost:8080/",
          "height": 282
        },
        "id": "JqR2BquVHxeR",
        "outputId": "fa1ee4ed-1f62-45dc-96e4-0ae942bb144b"
      },
      "source": [
        "# Data set will remain same\n",
        "x = torch.tensor([35.7, 55.9, 58.2, 81.9, 56.3, 48.9, 33.9, 21.8, 48.4, 60.4, 68.4])\n",
        "y = torch.tensor([0.5, 14.0, 15.0, 28.0, 11.0, 8.0, 3.0, -4.0, 6.0, 13.0, 21.0]) # temperature in celcius\n",
        "plt.plot(x,y,'.')"
      ],
      "execution_count": null,
      "outputs": [
        {
          "output_type": "execute_result",
          "data": {
            "text/plain": [
              "[<matplotlib.lines.Line2D at 0x7f5970dca550>]"
            ]
          },
          "metadata": {},
          "execution_count": 29
        },
        {
          "output_type": "display_data",
          "data": {
            "image/png": "[encoded data removed]",
            "text/plain": [
              "<Figure size 432x288 with 1 Axes>"
            ]
          },
          "metadata": {
            "needs_background": "light"
          }
        }
      ]
    },
    {
      "cell_type": "code",
      "metadata": {
        "id": "hXjSkg_ZJakB"
      },
      "source": [
        "# training loop\n",
        "def training_loop1(n_epochs, learning_rate, params, x, y):\n",
        "  for epoch in range(1, n_epochs + 1):\n",
        "    if params.grad is not None:\n",
        "      params.grad.zero_()\n",
        "    \n",
        "    #forward pass\n",
        "    y_hat = model1(x, *params)\n",
        "    loss = loss_fn(y_hat, y)\n",
        "\n",
        "    #backward pass\n",
        "    loss.backward()\n",
        "\n",
        "    #update the weights\n",
        "    with torch.no_grad():\n",
        "      params -= learning_rate * params.grad\n",
        "\n",
        "\n",
        "    if epoch % 500 == 0:\n",
        "      print('Epoch %d, Loss %f' % (epoch, float(loss)))\n",
        "  return params"
      ],
      "execution_count": null,
      "outputs": []
    },
    {
      "cell_type": "code",
      "metadata": {
        "colab": {
          "base_uri": "https://localhost:8080/"
        },
        "id": "_-pA2iDCK3K5",
        "outputId": "a978b4af-37b9-4cbc-9375-441b32f147f6"
      },
      "source": [
        "params = training_loop1(n_epochs=7000, \n",
        "              learning_rate=0.01, \n",
        "              params=torch.tensor([1.0, 1.0, .0], requires_grad=True),\n",
        "              x = .01*x,\n",
        "              y = y)\n",
        "print(params)"
      ],
      "execution_count": null,
      "outputs": [
        {
          "output_type": "stream",
          "name": "stdout",
          "text": [
            "Epoch 500, Loss 26.266182\n",
            "Epoch 1000, Loss 12.949668\n",
            "Epoch 1500, Loss 6.968258\n",
            "Epoch 2000, Loss 4.281574\n",
            "Epoch 2500, Loss 3.074787\n",
            "Epoch 3000, Loss 2.532740\n",
            "Epoch 3500, Loss 2.289264\n",
            "Epoch 4000, Loss 2.179901\n",
            "Epoch 4500, Loss 2.130778\n",
            "Epoch 5000, Loss 2.108713\n",
            "Epoch 5500, Loss 2.098804\n",
            "Epoch 6000, Loss 2.094352\n",
            "Epoch 6500, Loss 2.092352\n",
            "Epoch 7000, Loss 2.091455\n",
            "tensor([ 28.2687,  24.6289, -10.5683], requires_grad=True)\n"
          ]
        }
      ]
    },
    {
      "cell_type": "code",
      "metadata": {
        "colab": {
          "base_uri": "https://localhost:8080/",
          "height": 299
        },
        "id": "s2pRq6xTNnhs",
        "outputId": "918ff0cf-a9f7-4352-f53b-8cf53532574a"
      },
      "source": [
        "# Plot the result\n",
        "y_hat = model1(.01*x, *params)\n",
        "plt.xlabel(\"Temperature (°Fahrenheit)\")\n",
        "plt.ylabel(\"Temperature (°Celsius)\")\n",
        "plt.plot(x.numpy(), y_hat.detach().numpy())\n",
        "plt.plot(x.numpy(), y.numpy(), 'o')"
      ],
      "execution_count": null,
      "outputs": [
        {
          "output_type": "execute_result",
          "data": {
            "text/plain": [
              "[<matplotlib.lines.Line2D at 0x7f5970ad7150>]"
            ]
          },
          "metadata": {},
          "execution_count": 42
        },
        {
          "output_type": "display_data",
          "data": {
            "image/png": "[encoded data removed]",
            "text/plain": [
              "<Figure size 432x288 with 1 Axes>"
            ]
          },
          "metadata": {
            "needs_background": "light"
          }
        }
      ]
    },
    {
      "cell_type": "markdown",
      "metadata": {
        "id": "a0V-RuT8XWRQ"
      },
      "source": [
        "## Using PyTorch Optimizer"
      ]
    },
    {
      "cell_type": "code",
      "metadata": {
        "id": "P7vA9k3BVGk_"
      },
      "source": [
        "import torch.optim as optim\n",
        "\n",
        "def training_loop2(n_epochs, optimizer, params, x, y):\n",
        "  for epoch in range(1, n_epochs + 1):\n",
        "    # forward pass\n",
        "    y_hat = model1(x, *params)\n",
        "\n",
        "    loss = loss_fn(y_hat, y)\n",
        "    optimizer.zero_grad()\n",
        "    # backward pass\n",
        "    loss.backward()\n",
        "\n",
        "    # update weights\n",
        "    optimizer.step()\n",
        "\n",
        "    if epoch % 500 == 0:\n",
        "      print('Epoch %d, Loss %f' % (epoch, float(loss)))\n",
        "  return params"
      ],
      "execution_count": null,
      "outputs": []
    },
    {
      "cell_type": "code",
      "metadata": {
        "colab": {
          "base_uri": "https://localhost:8080/"
        },
        "id": "Ai2DUsrTYuqF",
        "outputId": "ead683dd-0bd0-4fd8-e4dd-26241e190398"
      },
      "source": [
        "params = torch.tensor([1.0, 0.0], requires_grad=True)\n",
        "learning_rate = 1e-2\n",
        "optimizer = optim.SGD([params], lr=learning_rate)\n",
        "training_loop2(n_epochs = 5000,\n",
        "              optimizer = optimizer,\n",
        "              params = params,\n",
        "              x = .01*x,\n",
        "              y = y)"
      ],
      "execution_count": null,
      "outputs": [
        {
          "output_type": "stream",
          "name": "stdout",
          "text": [
            "Epoch 500, Loss nan\n",
            "Epoch 1000, Loss nan\n",
            "Epoch 1500, Loss nan\n",
            "Epoch 2000, Loss nan\n",
            "Epoch 2500, Loss nan\n",
            "Epoch 3000, Loss nan\n",
            "Epoch 3500, Loss nan\n",
            "Epoch 4000, Loss nan\n",
            "Epoch 4500, Loss nan\n",
            "Epoch 5000, Loss nan\n"
          ]
        },
        {
          "output_type": "execute_result",
          "data": {
            "text/plain": [
              "tensor([nan, nan, nan], requires_grad=True)"
            ]
          },
          "metadata": {},
          "execution_count": 27
        }
      ]
    },
    {
      "cell_type": "markdown",
      "metadata": {
        "id": "rU2iPh2aJ5o3"
      },
      "source": [
        "## Use torch.nn to build the model"
      ]
    },
    {
      "cell_type": "code",
      "metadata": {
        "id": "HKiGNc0CY1wd"
      },
      "source": [
        "import torch.nn as nn\n",
        "linear_model = nn.Linear(1,1)\n",
        "optimizer = optim.SGD(linear_model.parameters(),lr=1e-2)\n",
        "\n",
        "# Partitioning the data in train (80%) and validation (20%) set using torch.randperm\n",
        "n_samples = x.shape[0]\n",
        "idx = torch.randperm(n_samples)\n",
        "x_train = x[idx[:int(n_samples*.8)]].unsqueeze(1) # using unsqueeze to put in the format batchsize x inputsize\n",
        "x_val = x[idx[int(n_samples*.8):]].unsqueeze(1)\n",
        "y_train = y[idx[:int(n_samples*.8)]].unsqueeze(1)\n",
        "y_val = y[idx[int(n_samples*.8):]].unsqueeze(1)"
      ],
      "execution_count": null,
      "outputs": []
    },
    {
      "cell_type": "code",
      "metadata": {
        "id": "9gmRV0C0N2MN"
      },
      "source": [
        "# training loop\n",
        "def training_loop3(n_epochs, optimizer, model, loss_fn, x_train, y_train, x_val, y_val):\n",
        "  for epoch in range(1, n_epochs + 1):\n",
        "    # forward pass\n",
        "    y_hat = model(x_train)\n",
        "\n",
        "    loss = loss_fn(y_hat, y_train)\n",
        "    optimizer.zero_grad()\n",
        "    # backward pass\n",
        "    loss.backward()\n",
        "\n",
        "    # update weights\n",
        "    optimizer.step()\n",
        "\n",
        "    with torch.no_grad():\n",
        "      y_hat_val = model(x_val)\n",
        "      loss_val = loss_fn(y_hat_val, y_val)\n",
        "    \n",
        "\n",
        "    if epoch % 500 == 0:\n",
        "      print('Epoch %d, Loss train %f, Loss test %f' % (epoch, float(loss), float(loss_val)))"
      ],
      "execution_count": null,
      "outputs": []
    },
    {
      "cell_type": "code",
      "metadata": {
        "colab": {
          "base_uri": "https://localhost:8080/"
        },
        "id": "plFa0sf_Ni2i",
        "outputId": "8487e18e-18d2-433d-e27e-c26bbbf3de16"
      },
      "source": [
        "training_loop3(5000, optimizer, linear_model, nn.MSELoss(), .1*x_train, y_train, .1*x_val, y_val)"
      ],
      "execution_count": null,
      "outputs": [
        {
          "output_type": "stream",
          "name": "stdout",
          "text": [
            "Epoch 500, Loss train 2.405107, Loss test 4.490805\n",
            "Epoch 1000, Loss train 2.405107, Loss test 4.490805\n",
            "Epoch 1500, Loss train 2.405107, Loss test 4.490805\n",
            "Epoch 2000, Loss train 2.405107, Loss test 4.490805\n",
            "Epoch 2500, Loss train 2.405107, Loss test 4.490805\n",
            "Epoch 3000, Loss train 2.405107, Loss test 4.490805\n",
            "Epoch 3500, Loss train 2.405107, Loss test 4.490805\n",
            "Epoch 4000, Loss train 2.405107, Loss test 4.490805\n",
            "Epoch 4500, Loss train 2.405107, Loss test 4.490805\n",
            "Epoch 5000, Loss train 2.405107, Loss test 4.490805\n"
          ]
        }
      ]
    },
    {
      "cell_type": "code",
      "metadata": {
        "colab": {
          "base_uri": "https://localhost:8080/",
          "height": 296
        },
        "id": "BcSa2vIeUONz",
        "outputId": "32f4a1de-dc13-4737-b971-e780e181a894"
      },
      "source": [
        "# Plot the result on validation set\n",
        "y_hat = linear_model(.1*x_val)\n",
        "plt.xlabel(\"Temperature (°Fahrenheit)\")\n",
        "plt.ylabel(\"Temperature (°Celsius)\")\n",
        "plt.plot(x_val.numpy(), y_hat.detach().numpy())\n",
        "plt.plot(x_val.numpy(), y_val.numpy(), 'o')"
      ],
      "execution_count": null,
      "outputs": [
        {
          "output_type": "execute_result",
          "data": {
            "text/plain": [
              "[<matplotlib.lines.Line2D at 0x7f0db5d933d0>]"
            ]
          },
          "metadata": {},
          "execution_count": 78
        },
        {
          "output_type": "display_data",
          "data": {
            "image/png": "[encoded data removed]",
            "text/plain": [
              "<Figure size 432x288 with 1 Axes>"
            ]
          },
          "metadata": {
            "needs_background": "light"
          }
        }
      ]
    },
    {
      "cell_type": "markdown",
      "metadata": {
        "id": "7QYw2oxAYc1m"
      },
      "source": [
        "## Lets build the following nonlinear model \n",
        "![nn.png](data:image/png;base64,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)"
      ]
    },
    {
      "cell_type": "code",
      "metadata": {
        "colab": {
          "base_uri": "https://localhost:8080/"
        },
        "id": "ct7F7-vzU3aM",
        "outputId": "c13f1787-7f13-43fe-9c01-a664a1a803ff"
      },
      "source": [
        "seq_model = nn.Sequential(nn.Linear(1, 13),\n",
        "                          nn.Tanh(),\n",
        "                          nn.Linear(13, 1))\n",
        "for name, param in seq_model.named_parameters():\n",
        "  print(name, param.shape)"
      ],
      "execution_count": null,
      "outputs": [
        {
          "output_type": "stream",
          "name": "stdout",
          "text": [
            "0.weight torch.Size([13, 1])\n",
            "0.bias torch.Size([13])\n",
            "2.weight torch.Size([1, 13])\n",
            "2.bias torch.Size([1])\n"
          ]
        }
      ]
    },
    {
      "cell_type": "code",
      "metadata": {
        "colab": {
          "base_uri": "https://localhost:8080/"
        },
        "id": "voxcKPv-ZOuw",
        "outputId": "9a5e11db-188d-427c-f549-591c3065c86c"
      },
      "source": [
        "optimizer = optim.SGD(seq_model.parameters(),lr=1e-3)\n",
        "training_loop3(5000, optimizer, seq_model, nn.MSELoss(), .1*x_train, y_train, .1*x_val, y_val)"
      ],
      "execution_count": null,
      "outputs": [
        {
          "output_type": "stream",
          "name": "stdout",
          "text": [
            "Epoch 500, Loss train 7.890214, Loss test 5.620350\n",
            "Epoch 1000, Loss train 3.441347, Loss test 4.677895\n",
            "Epoch 1500, Loss train 5.469314, Loss test 4.258265\n",
            "Epoch 2000, Loss train 3.998201, Loss test 3.896666\n",
            "Epoch 2500, Loss train 3.096646, Loss test 3.651232\n",
            "Epoch 3000, Loss train 2.533366, Loss test 3.480227\n",
            "Epoch 3500, Loss train 2.180219, Loss test 3.363837\n",
            "Epoch 4000, Loss train 1.957970, Loss test 3.289308\n",
            "Epoch 4500, Loss train 1.820047, Loss test 3.247264\n",
            "Epoch 5000, Loss train 1.738252, Loss test 3.229695\n"
          ]
        }
      ]
    },
    {
      "cell_type": "code",
      "metadata": {
        "colab": {
          "base_uri": "https://localhost:8080/",
          "height": 296
        },
        "id": "J9l-beTQZ81k",
        "outputId": "33b4b457-8e26-45ea-9d93-ddb7592940f4"
      },
      "source": [
        "# Plot the results\n",
        "x_range = torch.arange(20.0,90.0).unsqueeze(1)\n",
        "y_range = seq_model(.1*x_range)\n",
        "plt.xlabel(\"Temperature (°Fahrenheit)\")\n",
        "plt.ylabel(\"Temperature (°Celsius)\")\n",
        "plt.plot(x_range.numpy(), y_range.detach().numpy())\n",
        "plt.plot(x_train.numpy(), y_train.numpy(), 'o')\n",
        "plt.plot(x_val.numpy(), y_val.numpy(), '+')"
      ],
      "execution_count": null,
      "outputs": [
        {
          "output_type": "execute_result",
          "data": {
            "text/plain": [
              "[<matplotlib.lines.Line2D at 0x7f0db59dd490>]"
            ]
          },
          "metadata": {},
          "execution_count": 94
        },
        {
          "output_type": "display_data",
          "data": {
            "image/png": "[encoded data removed]",
            "text/plain": [
              "<Figure size 432x288 with 1 Axes>"
            ]
          },
          "metadata": {
            "needs_background": "light"
          }
        }
      ]
    },
    {
      "cell_type": "code",
      "metadata": {
        "id": "t-MDg7gcbq6G"
      },
      "source": [
        ""
      ],
      "execution_count": null,
      "outputs": []
    }
  ]
}